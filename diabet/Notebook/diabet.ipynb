{
 "cells": [
  {
   "cell_type": "markdown",
   "metadata": {},
   "source": [
    "<h1 align=center style=\"line-height:200%;font-family:vazir;color:#0099cc\">\n",
    "<font face=\"vazir\" color=\"#0099cc\">\n",
    "جامعه دیابت\n",
    "</font>\n",
    "</h1>"
   ]
  },
  {
   "cell_type": "markdown",
   "metadata": {},
   "source": [
    "<h2 dir=rtl align=right style=\"line-height:200%;font-family:vazir;color:#0099cc\">\n",
    "<font face=\"vazir\" color=\"#0099cc\">\n",
    "مقدمه و صورت مسئله\n",
    "</font>\n",
    "</h2>\n",
    "\n",
    "<p dir=rtl style=\"direction: rtl; text-align: justify; line-height:200%; font-family:vazir; font-size:medium\">\n",
    "<font face=\"vazir\" size=3>\n",
    "در این سوال ما به دنبال آموزش یک مدل یادگیری ماشین هستیم که بتواند جامعه دیابتی‌ها را به دو دسته مختلف تقسیم کند. در مجموعه‌داده مورد نظر، ستونی با نام <code>Diabetic</code> وجود دارد. در این سوال مدل شما باید بتواند با توجه به این ستون، افراد را به ۲ گروه «دارای دیابت از نوع ۱» و «دارای دیابت از نوع ۲» تقسیم کند.\n",
    "</font>\n",
    "</p>"
   ]
  },
  {
   "cell_type": "markdown",
   "metadata": {},
   "source": [
    "<h2 dir=rtl align=right style=\"line-height:200%;font-family:vazir;color:#0099cc\">\n",
    "<font face=\"vazir\" color=\"#0099cc\">\n",
    "معرفی مجموعه داده\n",
    "</font>\n",
    "</h2>\n",
    "\n",
    "<p dir=rtl style=\"direction: rtl; text-align: justify; line-height:200%; font-family:vazir; font-size:medium\">\n",
    "<font face=\"vazir\" size=3>\n",
    "در فایل اولیه‌ی این سوال، یک پوشه با نام <code>Data</code> وجود دارد که شامل ۲ فایل <code>train.csv</code> و <code>test.csv</code> وجود دارد. در این ۲ فایل دیتاستی به شرح زیر موجود می‌باشد:\n",
    "</font>\n",
    "</p>\n",
    "\n",
    "<p dir=rtl style=\"direction: rtl; text-align: justify; line-height:200%; font-family:vazir; font-size:medium\">\n",
    "<font face=\"vazir\" size=3>\n",
    "فایل <code>train.csv</code> دارای ۵۰ ستون می‌باشد و فایل <code>test.csv</code> به جز ستون <code>Diabetic</code> به مشابه فایل <code>train.csv</code> دارای ۴۹ ستون می‌باشد.\n",
    "هر ستون مربوط به یک شاخصه‌ی تاثیرگذار بر روی وضعیت سلامت فرد است. توضیحات هر ستون به شرح زیر می‌باشد:\n",
    "\n",
    "<center>\n",
    "<div dir=rtl style=\"direction: rtl;line-height:200%;font-family:vazir;font-size:medium\">\n",
    "<font face=\"vazir\" size=3>\n",
    "    \n",
    "|ستون|توضیحات|\n",
    "|:------:|:---:|\n",
    "|<code>ADM_RNO1</code>|آی‌دی منحصربه‌فرد برای هر شخص|\n",
    "|<code>Province</code>|استانی که شخص در آن سکونت دارد|\n",
    "|<code>Health_region_grouped</code>|ناحیه بهداشتی که هر فرد در آن حضور دارد|\n",
    "|<code>Gender</code>|جنسیت|\n",
    "|<code>Marital_status</code>|وضعیت تاهل|\n",
    "|<code>Household</code>|نوع ترکیب خانوار|\n",
    "|<code>Age</code>|سن|\n",
    "|<code>Worked_job_business</code>|وضعیت شغلی فرد در ۱۲ ماه گذشته|\n",
    "|<code>Edu_level</code>|تحصیلات|\n",
    "|<code>Gen_health_state</code>|خودارزیابی سلامت عمومی|\n",
    "|<code>Life_satisfaction</code>|میزان رضایت از زندگی شخصی|\n",
    "|<code>Mental_health_state</code>|خود ارزیابی وضعیت سلامت روان|\n",
    "|<code>Stress_level</code>|سطح استرس در زندگی روزمره|\n",
    "|<code>Work_stress</code>|سطح استرس در زندگی کاری|\n",
    "|<code>Sense_belonging</code>|حس تعلق به جامعه|\n",
    "|<code>Weight_state</code>|وضعیت وزنی بر اساس معیار BMI|\n",
    "|<code>BMI_12_17</code>|میزان BMI برای سنین ۱۲ تا ۱۷ سال|\n",
    "|<code>BMI_18_above</code>|میزان BMI برای سنین بالای ۱۸ سال|\n",
    "|<code>Sleep_apnea</code>|وجود مشکل خواب|\n",
    "|<code>High_BP</code>|وجود مشکل فشار خون بالا|\n",
    "|<code>High_cholesterol</code>|وجود مشکل کلسترول بالا|\n",
    "|<code>Diabetic</code>|نوع دیابت|\n",
    "|<code>Fatigue_syndrome</code>|وجود سندروم خستگی مزمن|\n",
    "|<code>Mood_disorder</code>|وجود اختلال خلقی|\n",
    "|<code>Anxiety_disorder</code>|وجود اختلال اضطرابی|\n",
    "|<code>Respiratory_chronic_con</code>|وجود بیماری انسدادی مزمن ریه|\n",
    "|<code>Musculoskeletal_con</code>|وجود اختلال گرفتگی عضلانی|\n",
    "|<code>Cardiovascular_con</code>|وجود بیکاری قلبی و عروقی|\n",
    "|<code>Health_utility_index</code>|شاخص سلامتی|\n",
    "|<code>Pain_status</code>|فراوانی و شدت درد|\n",
    "|<code>Act_improve_health</code>|انجام فعالیت‌های مرتبط با بهبود سلامتی|\n",
    "|<code>Fruit_veg_con</code>|مصرف روزانه میوه و سبزیجات|\n",
    "|<code>Smoked</code>|وضعیت استعمال سیگار|\n",
    "|<code>Tobacco_use</code>|وضعیت مصرف تنباکو |\n",
    "|<code>Weekly_alcohol</code>|دفعات مصرف الکل در هفته|\n",
    "|<code>Cannabis_use</code>|وضعیت مصرف حشیش|\n",
    "|<code>Drug_use</code>|مصرف مواد مخدر غیرقانونی در 12 ماه گذشته|\n",
    "|<code>Total_active_time</code>|مجموع فعالیت‌های فیزیکی|\n",
    "|<code>Other_physical_act_time</code>|مجموع فعالیت‌های فیزیکی غیره|\n",
    "|<code>Physical_vigorous_act_time</code>|زمان صرف شده برای فعالیت بدنی شدید|\n",
    "|<code>Work_hours</code>|تعداد ساعات کار در هفته|\n",
    "|<code>Working_status</code>|وضعیت کلی اشتغال|\n",
    "|<code>Aboriginal_identity</code>|آیا فرد به عنوان بومی معرفی می شود یا خیر|\n",
    "|<code>Birth_country</code>|کشور تولد|\n",
    "|<code>Immigrant</code>|آیا فرد مهاجر است یا خیر|\n",
    "|<code>Insurance_cover</code>|نوع بیمه‌ای که فرد استفاده می‌کند|\n",
    "|<code>Food_security</code>|وضعیت امنیت غذایی خانوار|\n",
    "|<code>Income_source</code>|منبع اصلی درآمد |\n",
    "|<code>Total_income</code>|درآمد سالیانه|\n",
    "\n",
    "</font>\n",
    "</div>\n",
    "</center>\n",
    "\n",
    "\n",
    "<p dir=rtl style=\"direction: rtl; text-align: justify; line-height:200%; font-family:vazir; font-size:medium\">\n",
    "<font face=\"vazir\" size=3>\n",
    "در مجموعه‌داده داده‌شده، مقادیر به صورت عددی ذخیره‌شده‌اند و هر ستون با توجه به ماهیت خود، می‌تواند چندین مقدار مختلف داشته باشد.\n",
    "</font>\n",
    "</p>\n"
   ]
  },
  {
   "cell_type": "markdown",
   "metadata": {},
   "source": [
    "<p dir=rtl style=\"direction: rtl; text-align: justify; line-height:200%; font-family:vazir; font-size:medium\">\n",
    "<font face=\"vazir\" size=3>\n",
    "در این قسمت کتاب‌خانه‌ها و ابزار مورد نیاز خود را <code>import</code> کنید و فایل داده‌ها را که در پوشه‌ی <code>Data</code> و که با نام‌های <code>train.csv</code> و <code>test.csv</code> ذخیره‌شده‌اند را بخوانید و وارد محیط کار خود کنید.\n",
    "</font>\n",
    "</p>"
   ]
  },
  {
   "cell_type": "code",
   "execution_count": 58,
   "metadata": {},
   "outputs": [],
   "source": [
    "import pandas as pd\n",
    "import numpy as np\n",
    "import matplotlib.pyplot as plt"
   ]
  },
  {
   "cell_type": "code",
   "execution_count": 59,
   "metadata": {},
   "outputs": [],
   "source": [
    "train_df = pd.read_csv('D:/code/diabet/data/train.csv')\n",
    "test_df = pd.read_csv('D:/code/diabet/data/test.csv')"
   ]
  },
  {
   "cell_type": "code",
   "execution_count": 60,
   "metadata": {},
   "outputs": [],
   "source": [
    "train_df[\"Diabetic\"] = train_df[\"Diabetic\"].map({1: 1, 2: 0})"
   ]
  },
  {
   "cell_type": "markdown",
   "metadata": {},
   "source": [
    "<h2 dir=rtl align=right style=\"line-height:200%;font-family:vazir;color:#0099cc\">\n",
    "<font face=\"vazir\" color=\"#0099cc\">\n",
    "پیش‌پردازش و مهندسی ویژگی\n",
    "</font>\n",
    "</h2>\n",
    "\n",
    "<p dir=rtl style=\"direction: rtl; text-align: justify; line-height:200%; font-family:vazir; font-size:medium\">\n",
    "<font face=\"vazir\" size=3>\n",
    "        در این سوال شما می‌توانید از هر تکنیک پیش‌پردازش/مهندسی ویژگی دلخواهتان، استفاده کنید.\n",
    "    <br>\n",
    "    تکنیک‌هایی که استفاده می‌کنید به شکل مستقیم مورد ارزیابی توسط سامانه داوری قرار <b>نمی‌گیرند.</b> بلکه همه آن‌ها در دقت مدل شما تاثیر خواهند گذاشت؛ بنابراین هر چه پیش‌پردازش/مهندسی ویژگی بهتری انجام دهید تا دقت مدل بهبود پیدا کند، امتیاز بیشتری از این سوال کسب خواهید کرد.\n",
    "    در این قسمت شما می‌توانید بخشی از داده‌ی موجود را برای اعتبارسنجی در نظر بگیرید.\n",
    "</font>\n",
    "</p>"
   ]
  },
  {
   "cell_type": "code",
   "execution_count": 61,
   "metadata": {},
   "outputs": [],
   "source": [
    "# TODO:\n",
    "X_train = train_df.drop('Diabetic', axis=1)\n",
    "y_train = train_df['Diabetic']\n",
    "\n",
    "X_test = test_df"
   ]
  },
  {
   "cell_type": "markdown",
   "metadata": {},
   "source": [
    "<h2 dir=rtl align=right style=\"line-height:200%;font-family:vazir;color:#0099cc\">\n",
    "<font face=\"vazir\" color=\"#0099cc\">\n",
    "آموزش مدل\n",
    "</font>\n",
    "</h2>\n",
    "\n",
    "<p dir=rtl style=\"direction: rtl;text-align: justify;line-height:200%;font-family:vazir;font-size:medium\">\n",
    "<font face=\"vazir\" size=3>\n",
    "    حال که داده را پاکسازی کرده و احتمالا ویژگی‌هایی را به آن افزوده یا از آن حذف کرده‌اید، وقت آن است که مدلی آموزش دهید که بتواند متغیر هدف این مسئله را پیش‌بینی کند. در این قسمت استفاده از هر نوع مدل مربوط به یادگیری ماشین کلاسیک مجاز می‌باشد.\n",
    "</font>\n",
    "</p>"
   ]
  },
  {
   "cell_type": "code",
   "execution_count": 62,
   "metadata": {},
   "outputs": [],
   "source": [
    "# TODO:\n",
    "from xgboost import XGBClassifier\n",
    "\n",
    "model = XGBClassifier(n_estimators=1000, learning_rate=0.01, random_state=42)\n",
    "model.fit(X_train, y_train)\n",
    "\n",
    "# پیش‌بینی روی دیتای تست\n",
    "y_pred = model.predict(X_test)"
   ]
  },
  {
   "cell_type": "markdown",
   "metadata": {},
   "source": [
    "<h2 dir=rtl align=right style=\"line-height:200%;font-family:vazir;color:#0099cc\">\n",
    "<font face=\"vazir\" color=\"#0099cc\">\n",
    "معیار ارزیابی\n",
    "</font>\n",
    "</h2>\n",
    "\n",
    "<p dir=rtl style=\"direction: rtl; text-align: justify; line-height:200%; font-family:vazir; font-size:medium\">\n",
    "<font face=\"vazir\" size=3>\n",
    "   ارسال‌ها بر اساس امتیاز <code>F1</code> ارزیابی می‌شوند و مدل میانگین‌گیری <code>macro</code> است. امتیاز <code>F1</code> معیاری برای ارزیابی مدل است که هم بازیابی (<code>Recall</code>) و هم صحت (<code>Accuracy</code>) را در نظر می‌گیرد.\n",
    "   نتیجه‌ی نهایی بر اساس فرمول زیر محاسبه می‌گردد:\n",
    "\n",
    "$$score= round(f1score, 3) \\times 100$$\n",
    "</font>\n",
    "</p>\n",
    "<p dir=rtl style=\"direction: rtl; text-align: justify; line-height:200%; font-family:vazir; font-size:medium\">\n",
    "<font face=\"vazir\" size=3>\n",
    "مقدار <code>F1 Score</code> مدل شما تا ۳ رقم اعشار گرد شده و پس از ضرب در ۱۰۰ به‌عنوان امتیاز شما از این سوال لحاظ می‌شود. بیشترین امتیاز ممکن از این سوال ۱۰۰ و کمترین امتیاز قابل قبول، ۶۰ می‌باشد. امتیاز <code>F1</code> کمتر از ۶۰ معادل صفر در نظر گرفته خواهد شد.\n",
    "    <br>\n",
    "    پیشنهاد می‌شود با توجه به این معیار، عملکرد مدل خود را بر روی مجموعه‌ی آموزش یا اعتبارسنجی ارزیابی کنید.\n",
    "</font>\n",
    "</p>"
   ]
  },
  {
   "cell_type": "code",
   "execution_count": 63,
   "metadata": {},
   "outputs": [],
   "source": [
    "from sklearn.metrics import f1_score\n",
    "\n",
    "# TODO:"
   ]
  },
  {
   "cell_type": "markdown",
   "metadata": {},
   "source": [
    "<h2 dir=rtl align=right style=\"line-height:200%;font-family:vazir;color:#0099cc\">\n",
    "<font face=\"vazir\" color=\"#0099cc\">\n",
    " پیش‌بینی برای داده تست و خروجی\n",
    "</font>\n",
    "</h2>\n",
    "\n",
    "<p dir=rtl style=\"direction: rtl;text-align: right;line-height:200%;font-family:vazir;font-size:medium\">\n",
    "<font face=\"vazir\" size=3>\n",
    "    پیش‌بینی مدل خود بر روی داده‌های آزمایش را در قالب یک <code>dataframe</code> در متغیری با نام <code>submission</code>ذخیره کنید.  این <code>dataframe</code> باید دارای یک ستون با نام <code>diabet</code> باشد که ردیف <code>i</code>ام آن، پیش‌بینی شما برای سطر <code>i</code>ام مجموعه‌داده‌ی آزمون باشد.\n",
    "</font>\n",
    "</p>\n",
    "\n",
    "<center>\n",
    "<div dir=rtl style=\"direction: rtl;line-height:200%;font-family:vazir;font-size:medium\">\n",
    "<font face=\"vazir\" size=3>\n",
    "    \n",
    "|ستون|توضیحات|\n",
    "|------|---|\n",
    "|diabet|نوع دیابت|\n",
    "    \n",
    "</font>\n",
    "</div>\n",
    "</center>"
   ]
  },
  {
   "cell_type": "code",
   "execution_count": 64,
   "metadata": {},
   "outputs": [],
   "source": [
    "# TODO:\n",
    "# معکوس کردن mapping برای y_pred\n",
    "y_pred_original = pd.Series(y_pred).map({1: 1, 0: 2})\n",
    "submission = pd.DataFrame(y_pred_original, columns=['diabet'])"
   ]
  },
  {
   "cell_type": "markdown",
   "metadata": {},
   "source": [
    "<h2 dir=rtl align=right style=\"line-height:200%;font-family:vazir;color:#0099cc\">\n",
    "<font face=\"vazir\" color=\"#0099cc\">\n",
    "<b>سلول جواب‌ساز</b>\n",
    "</font>\n",
    "</h2>\n",
    "\n",
    "<p dir=rtl style=\"direction: rtl; text-align: justify; line-height:200%; font-family:vazir; font-size:medium\">\n",
    "<font face=\"vazir\" size=3>\n",
    "    برای ساخته‌شدن فایل <code>result.zip</code> سلول زیر را اجرا کنید. توجه داشته باشید که پیش از اجرای سلول زیر تغییرات اعمال شده در نت‌بوک را ذخیره کرده باشید (<code>ctrl+s</code>) در غیر این صورت، در پایان مسابقه نمره شما به صفر تغییر خواهد کرد.\n",
    "    <br>\n",
    "    همچنین اگر از کولب برای اجرای این فایل نوت‌بوک استفاده می‌کنید، قبل از ارسال فایل <code>result.zip</code>، آخرین نسخه‌ی نوت‌بوک خود را دانلود کرده و داخل فایل ارسالی قرار دهید.\n",
    "</font>"
   ]
  },
  {
   "cell_type": "code",
   "execution_count": 65,
   "metadata": {},
   "outputs": [
    {
     "name": "stdout",
     "output_type": "stream",
     "text": [
      "File Paths:\n",
      "['diabet.ipynb', 'submission.csv']\n"
     ]
    }
   ],
   "source": [
    "import zipfile\n",
    "import joblib\n",
    "import os\n",
    "\n",
    "if not os.path.exists(os.path.join(os.getcwd(), 'diabet.ipynb')):\n",
    "    %notebook -e diabet.ipynb\n",
    "\n",
    "def compress(file_names):\n",
    "    print(\"File Paths:\")\n",
    "    print(file_names)\n",
    "    compression = zipfile.ZIP_DEFLATED\n",
    "    with zipfile.ZipFile(\"result.zip\", mode=\"w\") as zf:\n",
    "        for file_name in file_names:\n",
    "            zf.write('./' + file_name, file_name, compress_type=compression)\n",
    "\n",
    "submission.to_csv('submission.csv', index=False)\n",
    "file_names = ['diabet.ipynb', 'submission.csv']\n",
    "compress(file_names)"
   ]
  }
 ],
 "metadata": {
  "kernelspec": {
   "display_name": "Python 3",
   "language": "python",
   "name": "python3"
  },
  "language_info": {
   "codemirror_mode": {
    "name": "ipython",
    "version": 3
   },
   "file_extension": ".py",
   "mimetype": "text/x-python",
   "name": "python",
   "nbconvert_exporter": "python",
   "pygments_lexer": "ipython3",
   "version": "3.9.6"
  }
 },
 "nbformat": 4,
 "nbformat_minor": 2
}
